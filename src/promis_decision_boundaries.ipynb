{
 "cells": [
  {
   "cell_type": "markdown",
   "metadata": {},
   "source": [
    "In this notebook we show PROMIS Approximation application in the CRIME dataset, where the audit regions are in total 8 generated from KMeans. \n",
    "\n",
    "We show through visualization the initial spatial bias and the results of the mitigation proccess by using the PROMIS approach to adjust the decision boundaries"
   ]
  },
  {
   "cell_type": "code",
   "execution_count": 1,
   "metadata": {},
   "outputs": [],
   "source": [
    "import os\n",
    "import sys\n",
    "sys.path.append(os.path.abspath(os.path.join(\"..\")))\n",
    "\n",
    "from methods.models.optimization_model import SpatialOptimFairnessModel\n",
    "from utils.data_utils import read_scanned_regs, get_y, get_pos_info_regions\n",
    "from utils.results_names_utils import combine_world_info, get_train_val_test_paths\n",
    "import pandas as pd\n",
    "from utils.scores import get_mlr, get_fair_stat_ratios\n",
    "from utils.stats_utils import get_signif_threshold\n",
    "from utils.plot_utils import plot_fairness_map, plot_thresholds_adjustments\n",
    "import numpy as np\n",
    "from utils.geo_utils import compute_polygons, filterbbox "
   ]
  },
  {
   "cell_type": "markdown",
   "metadata": {},
   "source": [
    "## Read Data"
   ]
  },
  {
   "cell_type": "code",
   "execution_count": 2,
   "metadata": {},
   "outputs": [],
   "source": [
    "# read data\n",
    "base_path = \"../data/\"\n",
    "clf_name = \"xgb\"\n",
    "dataset_name = \"crime\"\n",
    "partioning_type_name = \"non_overlap_k_8\"\n",
    "fairness_notion = \"equal_opportunity\"\n",
    "\n",
    "results = {}\n",
    "res_desc_label, partioning_name, prediction_name = combine_world_info(\n",
    "    dataset_name, partioning_type_name, clf_name\n",
    ")\n",
    "_, val_path_info, test_path_info = get_train_val_test_paths(\n",
    "    base_path, partioning_name, prediction_name, dataset_name\n",
    ")\n",
    "val_regions_df = read_scanned_regs(val_path_info[\"regions\"])\n",
    "val_pred_df = pd.read_csv(val_path_info[\"predictions\"])\n",
    "val_labels_df = pd.read_csv(val_path_info[\"labels\"])\n",
    "y_pred_val = get_y(val_pred_df, \"pred\")\n",
    "y_pred_probs_val = get_y(val_pred_df, \"prob\")\n",
    "y_true_val = get_y(val_labels_df, \"label\")\n",
    "test_regions_df = read_scanned_regs(test_path_info[\"regions\"])\n",
    "test_pred_df = pd.read_csv(test_path_info[\"predictions\"])\n",
    "test_labels_df = pd.read_csv(test_path_info[\"labels\"])\n",
    "y_pred_test = get_y(test_pred_df, \"pred\")\n",
    "y_pred_probs_test = get_y(test_pred_df, \"prob\")\n",
    "y_true_test = get_y(test_labels_df, \"label\")\n",
    "val_points_per_region = val_regions_df[\"points\"].tolist()\n",
    "test_points_per_region = test_regions_df[\"points\"].tolist()"
   ]
  },
  {
   "cell_type": "code",
   "execution_count": 3,
   "metadata": {},
   "outputs": [],
   "source": [
    "# keep instances with positive labels (for equal opportunity)\n",
    "pos_y_true_indices_test, pos_points_per_region_test = get_pos_info_regions(\n",
    "    y_true_test, test_points_per_region\n",
    ")\n",
    "y_pred_pos_test = y_pred_test[pos_y_true_indices_test]\n",
    "pos_test_regions_df = test_regions_df.copy()\n",
    "pos_test_regions_df['points'] = pos_points_per_region_test"
   ]
  },
  {
   "cell_type": "code",
   "execution_count": null,
   "metadata": {},
   "outputs": [],
   "source": [
    "# compute initial statistics\n",
    "\n",
    "N = len(y_pred_pos_test)\n",
    "P = np.sum(y_pred_pos_test)\n",
    "print(f'N={N} points')\n",
    "print(f'P={P} positives') #positives being 'serious crimes' == 1 and negative class: 'non-serious' crimes = 0 (predicted by RF classifier)\n",
    "test_pred_df.head()\n",
    "\n",
    "mlr_test, stats_test = get_mlr(y_pred_pos_test, pos_points_per_region_test, True)\n",
    "test_regions_df['stat'] = stats_test\n",
    "signif_thresh_test = get_signif_threshold(0.005, 400, [{\"points\": pts} for pts in pos_points_per_region_test], N, P, seed=42)\n",
    "signif_regs_indices_test = [i for i, stat in enumerate(stats_test) if stat >= signif_thresh_test]\n",
    "print(f\"Test MLR (Equal Opportunity): {mlr_test:.3f}\")\n",
    "print(f\"Total Significant Regions: {len(signif_regs_indices_test)}\")"
   ]
  },
  {
   "cell_type": "code",
   "execution_count": 5,
   "metadata": {},
   "outputs": [],
   "source": [
    "# determine bounding box for display to avoid plotting outliers\n",
    "bbox_min_lon=-118.6673\n",
    "bbox_min_lat=33.707\n",
    "bbox_max_lon=-118.16\n",
    "bbox_max_lat=34.3374"
   ]
  },
  {
   "cell_type": "code",
   "execution_count": 6,
   "metadata": {},
   "outputs": [],
   "source": [
    "# keep instances with positive labels (for equal opportunity)\n",
    "\n",
    "pos_test_regions_df = test_regions_df.copy()\n",
    "pos_test_regions_df['points'] = pos_points_per_region_test\n",
    "\n",
    "pos_test_regions_df['pos_pr'] = pos_test_regions_df['points'].apply(lambda pts: sum(y_pred_pos_test[pts])/len(pts) if len(pts) > 0 else 0)\n",
    "PR_test = sum(y_pred_pos_test)/len(y_pred_pos_test)\n",
    "\n",
    "pos_test_regions_df[\"fair_stat_ratio\"], max_stat_test = get_fair_stat_ratios(\n",
    "    pos_test_regions_df[\"stat\"].to_numpy(),\n",
    "    pos_test_regions_df[\"pos_pr\"].to_numpy(),\n",
    "    PR_test,\n",
    ")"
   ]
  },
  {
   "cell_type": "code",
   "execution_count": 7,
   "metadata": {},
   "outputs": [],
   "source": [
    "# keep instances in bounding box for display\n",
    "sub_df = test_pred_df[test_pred_df.index.isin(pos_y_true_indices_test)]\n",
    "sub_df = sub_df.reset_index(drop=True)\n",
    "\n",
    "sub_df = filterbbox(sub_df, bbox_min_lon, bbox_min_lat, bbox_max_lon, bbox_max_lat)\n",
    "sub_test_pos_regions_df = pos_test_regions_df.copy()\n",
    "set_new_pts = set(sub_df.index.tolist())\n",
    "sub_test_pos_regions_df['points'] = sub_test_pos_regions_df['points'].apply(lambda pts: list(set(pts) & set_new_pts))\n",
    "\n",
    "old_2_new_idx = {}\n",
    "for i, ind in enumerate(sub_df.index):\n",
    "    old_2_new_idx[ind] = i\n",
    "\n",
    "sub_df = sub_df.reset_index(drop=True)\n",
    "sub_test_pos_regions_df['points'] = sub_test_pos_regions_df['points'].apply(lambda pts: [old_2_new_idx[p] for p in pts])\n",
    "sub_test_pos_regions_df = compute_polygons(sub_test_pos_regions_df, sub_df)\n",
    "\n",
    "y_pred_test_sub = get_y(sub_df, \"pred\")"
   ]
  },
  {
   "cell_type": "code",
   "execution_count": null,
   "metadata": {},
   "outputs": [],
   "source": [
    "# shouls normalized LR\n",
    "plot_fairness_map(\n",
    "    regs_df_list=[sub_test_pos_regions_df],\n",
    "    title=\"XGBoost Predictions - Normalized LR\",\n",
    "    score_label=\"fair_stat_ratio\",\n",
    ")"
   ]
  },
  {
   "cell_type": "code",
   "execution_count": null,
   "metadata": {},
   "outputs": [],
   "source": [
    "# show the original thresholds and the respective normalized LR with colors\n",
    "figsize = (12, 6)\n",
    "plot_thresholds_adjustments(\n",
    "    thresholds=[0.5]*len(test_points_per_region),  \n",
    "    region_sizes=sub_test_pos_regions_df['fair_stat_ratio'].to_numpy(),\n",
    "    figsize=figsize,\n",
    "    display_title=True,\n",
    "    title=\"Classification Threshold per Region of the XGBoost Model\"\n",
    ")"
   ]
  },
  {
   "cell_type": "code",
   "execution_count": null,
   "metadata": {},
   "outputs": [],
   "source": [
    "# apply PROMIS Approximation mitigation method (equal opportunity)\n",
    "budget = 5000\n",
    "no_of_threads=0\n",
    "fair_model = SpatialOptimFairnessModel(\"promis_app\")\n",
    "fair_model.multi_fit(\n",
    "    points_per_region=val_points_per_region,\n",
    "    n_flips_start = budget,\n",
    "    step=10,\n",
    "    n_flips=budget,\n",
    "    y_pred=y_pred_val,\n",
    "    y_true=y_true_val,\n",
    "    y_pred_probs=y_pred_probs_val,\n",
    "    wlimit=300,\n",
    "    fair_notion=fairness_notion,\n",
    "    overlap=True,\n",
    "    no_of_threads=no_of_threads,\n",
    "    verbose=1,\n",
    ")"
   ]
  },
  {
   "cell_type": "code",
   "execution_count": 11,
   "metadata": {},
   "outputs": [],
   "source": [
    "# Extract the new thresholds\n",
    "thresholds = fair_model.budget_to_solution_info[budget][\"new_regions_thresh\"]\n",
    "\n",
    "test_orig_preds = y_pred_probs_test > 0.5\n",
    "\n",
    "# Apply the new thresholds and get the new predictions\n",
    "test_new_preds = fair_model.multi_predict(test_points_per_region, y_pred_probs_test, [budget])\n",
    "test_new_preds = test_new_preds[budget]"
   ]
  },
  {
   "cell_type": "code",
   "execution_count": null,
   "metadata": {},
   "outputs": [],
   "source": [
    "# keep instances with positive labels (for equal opportunity)\n",
    "# and compute new statistics\n",
    "test_new_preds_pos = test_new_preds[pos_y_true_indices_test]\n",
    "N_test_new = len(test_new_preds_pos)\n",
    "P_test_new = np.sum(test_new_preds_pos)\n",
    "print(f'N={N_test_new} points')\n",
    "print(f'P={P_test_new} positives') #positives being 'serious crimes' == 1 and negative class: 'non-serious' crimes = 0 (predicted by RF classifier)\n",
    "\n",
    "mlr_test, stats_test = get_mlr(test_new_preds_pos, pos_points_per_region_test, True)\n",
    "pos_test_regions_df['new_stat'] = stats_test\n",
    "signif_thresh_test = get_signif_threshold(0.005, 400, [{\"points\": pts} for pts in pos_points_per_region_test], N_test_new, P_test_new ,seed=42)\n",
    "signif_regs_indices_test = [i for i, stat in enumerate(stats_test) if stat >= signif_thresh_test]\n",
    "print(f\"Test MLR (Equal Opportunity): {mlr_test:.3f}\")\n",
    "print(f\"Total Significant Regions: {len(signif_regs_indices_test)}\")"
   ]
  },
  {
   "cell_type": "code",
   "execution_count": 13,
   "metadata": {},
   "outputs": [],
   "source": [
    "# compute normalized LR and keep instances in bounding box for display\n",
    "pos_test_regions_df['new_pos_pr'] = pos_test_regions_df['points'].apply(lambda pts: sum(test_new_preds_pos[pts])/len(pts))\n",
    "PR_test_new = sum(test_new_preds_pos)/len(test_new_preds_pos)\n",
    "\n",
    "pos_test_regions_df[\"new_fair_stat_ratio\"], _ = get_fair_stat_ratios(\n",
    "    pos_test_regions_df[\"new_stat\"].to_numpy(),\n",
    "    pos_test_regions_df[\"new_pos_pr\"].to_numpy(),\n",
    "    PR_test_new,\n",
    "    max_stat_test\n",
    ")\n",
    "sub_test_pos_regions_df['new_fair_stat_ratio'] = pos_test_regions_df[\"new_fair_stat_ratio\"]\n",
    "sub_test_pos_regions_df['new_stat'] = pos_test_regions_df[\"new_stat\"]\n",
    "sub_test_pos_regions_df['new_pos_pr'] = pos_test_regions_df[\"new_pos_pr\"]"
   ]
  },
  {
   "cell_type": "code",
   "execution_count": null,
   "metadata": {},
   "outputs": [],
   "source": [
    "sub_test_pos_regions_df[[\"pos_pr\", \"new_pos_pr\", \"fair_stat_ratio\", \"new_fair_stat_ratio\"]]"
   ]
  },
  {
   "cell_type": "code",
   "execution_count": null,
   "metadata": {},
   "outputs": [],
   "source": [
    "# show the original thresholds and the respective normalized LR with colors\n",
    "figsize = (12, 6)\n",
    "plot_thresholds_adjustments(\n",
    "    thresholds=thresholds,  # List of threshold values\n",
    "    region_sizes=sub_test_pos_regions_df['new_fair_stat_ratio'].to_numpy(),\n",
    "    figsize=figsize,\n",
    "    display_title=True,\n",
    "    title=\"Classification Thresholds per Region After Mitigation\"\n",
    ")\n"
   ]
  },
  {
   "cell_type": "code",
   "execution_count": null,
   "metadata": {},
   "outputs": [],
   "source": [
    "# show the new normalized LR after mitigation\n",
    "plot_fairness_map(\n",
    "    regs_df_list=[sub_test_pos_regions_df],\n",
    "    title=\"Mitigated Predictions - Normalized LR\",\n",
    "    score_label=\"new_fair_stat_ratio\",\n",
    ")"
   ]
  }
 ],
 "metadata": {
  "kernelspec": {
   "display_name": "PROMIS Env",
   "language": "python",
   "name": "promis-env"
  },
  "language_info": {
   "codemirror_mode": {
    "name": "ipython",
    "version": 3
   },
   "file_extension": ".py",
   "mimetype": "text/x-python",
   "name": "python",
   "nbconvert_exporter": "python",
   "pygments_lexer": "ipython3",
   "version": "3.10.16"
  }
 },
 "nbformat": 4,
 "nbformat_minor": 2
}
